{
 "cells": [
  {
   "cell_type": "markdown",
   "metadata": {},
   "source": [
    "# [作業目標]\n",
    "- 利用範例的創建方式, 創建一組資料, 並練習如何取出最大值"
   ]
  },
  {
   "cell_type": "markdown",
   "metadata": {},
   "source": [
    "# [作業重點]\n",
    "- 練習創立 DataFrame (In[2])\n",
    "- 如何取出口數最多的國家 (In[3], Out[3])"
   ]
  },
  {
   "cell_type": "markdown",
   "metadata": {},
   "source": [
    "## 練習時間\n",
    "在小量的資料上，我們用眼睛就可以看得出來程式碼是否有跑出我們理想中的結果\n",
    "\n",
    "請嘗試想像一個你需要的資料結構 (裡面的值可以是隨機的)，然後用上述的方法把它變成 pandas DataFrame\n",
    "\n",
    "#### Ex: 想像一個 dataframe 有兩個欄位，一個是國家，一個是人口，求人口數最多的國家\n",
    "\n",
    "### Hints: [隨機產生數值](https://blog.csdn.net/christianashannon/article/details/78867204)"
   ]
  },
  {
   "cell_type": "code",
   "execution_count": 1,
   "metadata": {},
   "outputs": [],
   "source": [
    "import pandas as pd\n",
    "import numpy as np"
   ]
  },
  {
   "cell_type": "code",
   "execution_count": 8,
   "metadata": {},
   "outputs": [
    {
     "name": "stdout",
     "output_type": "stream",
     "text": [
      "    country  population_num\n",
      "0         0      2248516104\n",
      "1         1      5775261063\n",
      "2         2      3002887652\n",
      "3         3      4377344030\n",
      "4         4      1186635507\n",
      "5         5      5592205858\n",
      "6         6      2751234883\n",
      "7         7      3143413569\n",
      "8         8      5358242170\n",
      "9         9      2420751022\n",
      "10       10      5437199949\n",
      "11       11      5025493963\n",
      "12       12      1000221832\n",
      "13       13      2331712992\n",
      "14       14      3651057930\n",
      "15       15      2662020181\n",
      "16       16      1412174933\n",
      "17       17      2463830013\n",
      "18       18      3805756316\n",
      "19       19      3613449429\n",
      "20       20      3902290986\n",
      "21       21       845289966\n",
      "22       22      4361901652\n",
      "23       23      2088731742\n",
      "24       24        24966839\n",
      "25       25      1928042547\n",
      "26       26      1930083485\n",
      "27       27       819537886\n",
      "28       28      3193788315\n",
      "29       29      5320834683\n",
      "30       30      1251021452\n",
      "31       31      3318190106\n",
      "32       32      3698535078\n",
      "33       33      4461199820\n",
      "34       34      1769040281\n",
      "35       35      4745119894\n",
      "36       36      3721484671\n",
      "37       37      1045488651\n",
      "38       38       967999289\n",
      "39       39      2915259719\n",
      "40       40      1811648578\n",
      "41       41       598936254\n",
      "42       42      4547254369\n",
      "43       43      1010000428\n",
      "44       44       291920699\n",
      "45       45       102723160\n",
      "46       46      4606983609\n",
      "47       47      5504597715\n",
      "48       48      5794813646\n",
      "49       49      2954388653\n",
      "    country  population_num\n",
      "48       48      5794813646\n",
      "1         1      5775261063\n",
      "5         5      5592205858\n",
      "    country  population_num\n",
      "48       48      5794813646\n"
     ]
    }
   ],
   "source": [
    "country_no_array= np.arange(50)\n",
    "\n",
    "#print(country_no_array)\n",
    "population_number_array = np.random.randint(10000,6000000000,50)\n",
    "#print(population_number_array)\n",
    "dict = {'country': country_no_array ,\n",
    "        'population_num': population_number_array}\n",
    "\n",
    "\n",
    "data = pd.DataFrame(dict)\n",
    "\n",
    "print(data)\n",
    "\n",
    "\n",
    "data_max_top3=(data.sort_values(by = 'population_num', ascending = False)).head(3)\n",
    "\n",
    "\n",
    "print(data_max_top3)\n",
    "\n",
    "data_max=(data.sort_values(by = 'population_num', ascending = False)).head(1)\n",
    "print(data_max)"
   ]
  },
  {
   "cell_type": "code",
   "execution_count": null,
   "metadata": {},
   "outputs": [],
   "source": []
  }
 ],
 "metadata": {
  "kernelspec": {
   "display_name": "Python 3",
   "language": "python",
   "name": "python3"
  },
  "language_info": {
   "codemirror_mode": {
    "name": "ipython",
    "version": 3
   },
   "file_extension": ".py",
   "mimetype": "text/x-python",
   "name": "python",
   "nbconvert_exporter": "python",
   "pygments_lexer": "ipython3",
   "version": "3.7.1"
  }
 },
 "nbformat": 4,
 "nbformat_minor": 2
}
